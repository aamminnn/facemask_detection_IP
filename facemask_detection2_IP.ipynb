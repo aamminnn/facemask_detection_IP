{
 "cells": [
  {
   "cell_type": "code",
   "execution_count": null,
   "metadata": {},
   "outputs": [],
   "source": [
    "# steps:\n",
    "# 1. import modules\n",
    "# 2. initialize learning rate, epoch, batch size\n",
    "# 3. folder path\n",
    "# 4. array for image data and labels\n",
    "# 5. binary classification for labels\n",
    "# 6. split train and test input and output\n",
    "# 7. data augmentation\n",
    "# 8. create model consist of 3 layers, base layer, top layer, fully connected layer\n",
    "# 9. assign optimizer\n",
    "# 10. train\n",
    "# 11. validate\n",
    "# 12. save/load model\n",
    "# 13. implement in openCV"
   ]
  },
  {
   "cell_type": "code",
   "execution_count": 1,
   "metadata": {},
   "outputs": [],
   "source": [
    "# 1. import modules\n",
    "\n",
    "from tensorflow.keras.preprocessing.image import ImageDataGenerator\n",
    "from tensorflow.keras.applications import MobileNetV2\n",
    "from tensorflow.keras.layers import AveragePooling2D, Dropout, Flatten, Dense, Input\n",
    "from tensorflow.keras.models import Model\n",
    "from tensorflow.keras.optimizers import Adam\n",
    "from tensorflow.keras.applications.mobilenet_v2 import preprocess_input\n",
    "from tensorflow.keras.preprocessing.image import img_to_array, load_img\n",
    "from tensorflow.keras.utils import to_categorical\n",
    "from sklearn.preprocessing import LabelBinarizer\n",
    "from sklearn.model_selection import train_test_split\n",
    "from sklearn.metrics import classification_report\n",
    "from imutils import paths\n",
    "import matplotlib.pyplot as plt\n",
    "import numpy as np\n",
    "import os"
   ]
  },
  {
   "cell_type": "code",
   "execution_count": 2,
   "metadata": {},
   "outputs": [],
   "source": [
    "# 2. initialize\n",
    "\n",
    "initial_lr = 1e-4 #smaller the better\n",
    "epochs = 20\n",
    "batch_size = 32"
   ]
  },
  {
   "cell_type": "code",
   "execution_count": 4,
   "metadata": {},
   "outputs": [],
   "source": [
    "# 3. folder path\n",
    "\n",
    "directory = r\"D:\\SEM 9\\individual asg\\Face-Mask-Detection-master\\dataset\\data\"\n",
    "categories = [\"with_mask\", \"without_mask\"]"
   ]
  },
  {
   "cell_type": "code",
   "execution_count": 5,
   "metadata": {},
   "outputs": [],
   "source": [
    "# 3. store image data in form of array\n",
    "\n",
    "data = []\n",
    "labels = []\n",
    "\n",
    "for category in categories:\n",
    "    path = os.path.join(directory, category)\n",
    "    for img in os.listdir(path):\n",
    "        img_path = os.path.join(path, img)\n",
    "        image = load_img(img_path, target_size = (224, 224))\n",
    "        image = img_to_array(image)\n",
    "        image = preprocess_input(image)\n",
    "        \n",
    "        data.append(image)\n",
    "        labels.append(category)"
   ]
  },
  {
   "cell_type": "code",
   "execution_count": 6,
   "metadata": {},
   "outputs": [],
   "source": [
    "# 4. binary classification for labels, convert labels text to categorical variables\n",
    "\n",
    "lb = LabelBinarizer()\n",
    "labels = lb.fit_transform(labels)\n",
    "labels = to_categorical(labels)"
   ]
  },
  {
   "cell_type": "code",
   "execution_count": 11,
   "metadata": {},
   "outputs": [],
   "source": [
    "# 5. convert data array to numpy array, readable for deep learning\n",
    "\n",
    "data = np.array(data, dtype=\"float32\")\n",
    "labels = np.array(labels)"
   ]
  },
  {
   "cell_type": "code",
   "execution_count": 12,
   "metadata": {},
   "outputs": [
    {
     "name": "stderr",
     "output_type": "stream",
     "text": [
      "C:\\Users\\User\\Anaconda3\\lib\\site-packages\\sklearn\\utils\\__init__.py:806: DeprecationWarning: `np.int` is a deprecated alias for the builtin `int`. To silence this warning, use `int` by itself. Doing this will not modify any behavior and is safe. When replacing `np.int`, you may wish to use e.g. `np.int64` or `np.int32` to specify the precision. If you wish to review your current use, check the release note link for additional information.\n",
      "Deprecated in NumPy 1.20; for more details and guidance: https://numpy.org/devdocs/release/1.20.0-notes.html#deprecations\n",
      "  return floored.astype(np.int)\n",
      "C:\\Users\\User\\Anaconda3\\lib\\site-packages\\sklearn\\utils\\__init__.py:806: DeprecationWarning: `np.int` is a deprecated alias for the builtin `int`. To silence this warning, use `int` by itself. Doing this will not modify any behavior and is safe. When replacing `np.int`, you may wish to use e.g. `np.int64` or `np.int32` to specify the precision. If you wish to review your current use, check the release note link for additional information.\n",
      "Deprecated in NumPy 1.20; for more details and guidance: https://numpy.org/devdocs/release/1.20.0-notes.html#deprecations\n",
      "  return floored.astype(np.int)\n"
     ]
    }
   ],
   "source": [
    "# 6. split test and train, x = input, y = output\n",
    "\n",
    "(trainX, testX, trainY, testY) = train_test_split(data, labels, test_size=0.20, stratify=labels, random_state = 42)\n",
    "# split traint:test ratio at 80:20\n",
    "# stratify to ensure produced proportion value during random split has same proportion value as provided"
   ]
  },
  {
   "cell_type": "code",
   "execution_count": 13,
   "metadata": {},
   "outputs": [],
   "source": [
    "# 7. data augmentation\n",
    "\n",
    "augment = ImageDataGenerator(\n",
    "    rotation_range = 20,\n",
    "    zoom_range = 0.15,\n",
    "    width_shift_range = 0.2,\n",
    "    height_shift_range = 0.2,\n",
    "    shear_range = 0.15,\n",
    "    horizontal_flip = True,\n",
    "    fill_mode = \"nearest\"\n",
    ")"
   ]
  },
  {
   "cell_type": "code",
   "execution_count": 16,
   "metadata": {},
   "outputs": [
    {
     "name": "stdout",
     "output_type": "stream",
     "text": [
      "WARNING:tensorflow:`input_shape` is undefined or non-square, or `rows` is not in [96, 128, 160, 192, 224]. Weights for input shape (224, 224) will be loaded as the default.\n",
      "Downloading data from https://storage.googleapis.com/tensorflow/keras-applications/mobilenet_v2/mobilenet_v2_weights_tf_dim_ordering_tf_kernels_1.0_224_no_top.h5\n",
      "9412608/9406464 [==============================] - 4s 0us/step\n",
      "9420800/9406464 [==============================] - 4s 0us/step\n"
     ]
    }
   ],
   "source": [
    "# 8. first layer of model, using mobileNetv2\n",
    "\n",
    "baseModel = MobileNetV2(weights = \"imagenet\", include_top = False,input_tensor = Input(shape=(224,224,3)))"
   ]
  },
  {
   "cell_type": "code",
   "execution_count": 19,
   "metadata": {},
   "outputs": [],
   "source": [
    "# layer on top of base model\n",
    "\n",
    "headModel = baseModel.output\n",
    "headModel = AveragePooling2D(pool_size=(7,7))(headModel)\n",
    "headModel = Flatten(name=\"flatten\")(headModel)\n",
    "headModel = Dense(128, activation=\"relu\")(headModel)\n",
    "headModel = Dropout(0.5)(headModel)\n",
    "headModel = Dense(2, activation = \"softmax\")(headModel)"
   ]
  },
  {
   "cell_type": "code",
   "execution_count": 20,
   "metadata": {},
   "outputs": [],
   "source": [
    "# fully connected layer, used for training\n",
    "\n",
    "model = Model(inputs = baseModel.input, outputs = headModel)"
   ]
  },
  {
   "cell_type": "code",
   "execution_count": 21,
   "metadata": {},
   "outputs": [],
   "source": [
    "# freeze base model layer, to stop layer to be updated during first training\n",
    "\n",
    "for layer in baseModel.layers:\n",
    "    layer.trainable = False"
   ]
  },
  {
   "cell_type": "code",
   "execution_count": 24,
   "metadata": {},
   "outputs": [],
   "source": [
    "# 9. optimizer\n",
    "\n",
    "opt = Adam(learning_rate = initial_lr, decay = initial_lr/epochs)\n",
    "model.compile(loss = \"binary_crossentropy\", optimizer = opt, metrics = [\"accuracy\"])"
   ]
  },
  {
   "cell_type": "code",
   "execution_count": 25,
   "metadata": {},
   "outputs": [
    {
     "name": "stdout",
     "output_type": "stream",
     "text": [
      "Epoch 1/20\n",
      "34/34 [==============================] - 30s 838ms/step - loss: 0.5789 - accuracy: 0.7659 - val_loss: 0.2551 - val_accuracy: 0.9565\n",
      "Epoch 2/20\n",
      "34/34 [==============================] - 28s 826ms/step - loss: 0.2282 - accuracy: 0.9568 - val_loss: 0.1178 - val_accuracy: 0.9710\n",
      "Epoch 3/20\n",
      "34/34 [==============================] - 29s 859ms/step - loss: 0.1295 - accuracy: 0.9813 - val_loss: 0.0671 - val_accuracy: 0.9928\n",
      "Epoch 4/20\n",
      "34/34 [==============================] - 30s 871ms/step - loss: 0.0867 - accuracy: 0.9831 - val_loss: 0.0476 - val_accuracy: 0.9964\n",
      "Epoch 5/20\n",
      "34/34 [==============================] - 30s 895ms/step - loss: 0.0698 - accuracy: 0.9888 - val_loss: 0.0364 - val_accuracy: 1.0000\n",
      "Epoch 6/20\n",
      "34/34 [==============================] - 30s 875ms/step - loss: 0.0517 - accuracy: 0.9916 - val_loss: 0.0299 - val_accuracy: 1.0000\n",
      "Epoch 7/20\n",
      "34/34 [==============================] - 32s 935ms/step - loss: 0.0403 - accuracy: 0.9972 - val_loss: 0.0251 - val_accuracy: 1.0000\n",
      "Epoch 8/20\n",
      "34/34 [==============================] - 32s 925ms/step - loss: 0.0465 - accuracy: 0.9897 - val_loss: 0.0238 - val_accuracy: 0.9964\n",
      "Epoch 9/20\n",
      "34/34 [==============================] - 31s 912ms/step - loss: 0.0392 - accuracy: 0.9906 - val_loss: 0.0199 - val_accuracy: 1.0000\n",
      "Epoch 10/20\n",
      "34/34 [==============================] - 31s 909ms/step - loss: 0.0357 - accuracy: 0.9925 - val_loss: 0.0179 - val_accuracy: 1.0000\n",
      "Epoch 11/20\n",
      "34/34 [==============================] - 31s 915ms/step - loss: 0.0301 - accuracy: 0.9944 - val_loss: 0.0176 - val_accuracy: 1.0000\n",
      "Epoch 12/20\n",
      "34/34 [==============================] - 31s 915ms/step - loss: 0.0220 - accuracy: 0.9972 - val_loss: 0.0153 - val_accuracy: 1.0000\n",
      "Epoch 13/20\n",
      "34/34 [==============================] - 31s 901ms/step - loss: 0.0221 - accuracy: 0.9944 - val_loss: 0.0140 - val_accuracy: 1.0000\n",
      "Epoch 14/20\n",
      "34/34 [==============================] - 31s 908ms/step - loss: 0.0242 - accuracy: 0.9953 - val_loss: 0.0132 - val_accuracy: 1.0000\n",
      "Epoch 15/20\n",
      "34/34 [==============================] - 32s 934ms/step - loss: 0.0180 - accuracy: 0.9963 - val_loss: 0.0130 - val_accuracy: 1.0000\n",
      "Epoch 16/20\n",
      "34/34 [==============================] - 32s 932ms/step - loss: 0.0244 - accuracy: 0.9953 - val_loss: 0.0121 - val_accuracy: 1.0000\n",
      "Epoch 17/20\n",
      "34/34 [==============================] - 32s 938ms/step - loss: 0.0176 - accuracy: 0.9981 - val_loss: 0.0111 - val_accuracy: 1.0000\n",
      "Epoch 18/20\n",
      "34/34 [==============================] - 31s 924ms/step - loss: 0.0151 - accuracy: 0.9963 - val_loss: 0.0104 - val_accuracy: 1.0000\n",
      "Epoch 19/20\n",
      "34/34 [==============================] - 32s 929ms/step - loss: 0.0151 - accuracy: 0.9981 - val_loss: 0.0099 - val_accuracy: 1.0000\n",
      "Epoch 20/20\n",
      "34/34 [==============================] - 32s 927ms/step - loss: 0.0146 - accuracy: 0.9972 - val_loss: 0.0093 - val_accuracy: 1.0000\n"
     ]
    }
   ],
   "source": [
    "# 10. training\n",
    "\n",
    "head = model.fit(\n",
    "    augment.flow(trainX, trainY, batch_size = batch_size),\n",
    "    steps_per_epoch = len(trainX) // batch_size,\n",
    "    validation_data = (testX, testY),\n",
    "    validation_steps = len(testX) // batch_size,\n",
    "    epochs = epochs\n",
    ")"
   ]
  },
  {
   "cell_type": "code",
   "execution_count": 26,
   "metadata": {},
   "outputs": [],
   "source": [
    "# 11. validate\n",
    "\n",
    "test_pred = model.predict(testX, batch_size = batch_size)"
   ]
  },
  {
   "cell_type": "code",
   "execution_count": 27,
   "metadata": {},
   "outputs": [],
   "source": [
    "test_pred = np.argmax(test_pred, axis = 1)"
   ]
  },
  {
   "cell_type": "code",
   "execution_count": 28,
   "metadata": {},
   "outputs": [
    {
     "name": "stdout",
     "output_type": "stream",
     "text": [
      "              precision    recall  f1-score   support\n",
      "\n",
      "   with_mask       1.00      1.00      1.00       138\n",
      "without_mask       1.00      1.00      1.00       138\n",
      "\n",
      "    accuracy                           1.00       276\n",
      "   macro avg       1.00      1.00      1.00       276\n",
      "weighted avg       1.00      1.00      1.00       276\n",
      "\n"
     ]
    }
   ],
   "source": [
    "print(classification_report(testY.argmax(axis=1), test_pred, target_names = lb.classes_))"
   ]
  },
  {
   "cell_type": "code",
   "execution_count": 30,
   "metadata": {},
   "outputs": [],
   "source": [
    "model.save(\"mask_detector.model\", save_format = \"h5\")"
   ]
  },
  {
   "cell_type": "code",
   "execution_count": 31,
   "metadata": {},
   "outputs": [
    {
     "data": {
      "image/png": "[encoded data removed]",
      "text/plain": [
       "<Figure size 432x288 with 1 Axes>"
      ]
     },
     "metadata": {},
     "output_type": "display_data"
    }
   ],
   "source": [
    "# visualize training and validation summary\n",
    "\n",
    "num = epochs\n",
    "plt.style.use(\"ggplot\")\n",
    "plt.figure()\n",
    "plt.plot(np.arange(0, num), head.history[\"loss\"], label = \"train_loss\")\n",
    "plt.plot(np.arange(0, num), head.history[\"val_loss\"], label = \"val_loss\")\n",
    "plt.plot(np.arange(0, num), head.history[\"accuracy\"], label = \"train_acc\")\n",
    "plt.plot(np.arange(0, num), head.history[\"val_accuracy\"], label = \"val_acc\")\n",
    "plt.title(\"Training Loss and Accuracy\")\n",
    "plt.xlabel(\"num of epochs\")\n",
    "plt.ylabel(\"Loss/Accuracy\")\n",
    "plt.legend(loc = \"lower left\")\n",
    "plt.savefig(\"plot.png\")"
   ]
  },
  {
   "cell_type": "code",
   "execution_count": 32,
   "metadata": {},
   "outputs": [
    {
     "name": "stdout",
     "output_type": "stream",
     "text": [
      " Volume in drive C is SSD\n",
      " Volume Serial Number is 3AE5-7E79\n",
      "\n",
      " Directory of C:\\Users\\User\n",
      "\n",
      "09-Dec-21  12:32 AM        11,488,792 mask_detector.model\n",
      "               1 File(s)     11,488,792 bytes\n",
      "               0 Dir(s)   7,418,458,112 bytes free\n"
     ]
    }
   ],
   "source": [
    "ls mask_detector.model"
   ]
  },
  {
   "cell_type": "code",
   "execution_count": 33,
   "metadata": {},
   "outputs": [
    {
     "name": "stdout",
     "output_type": "stream",
     "text": [
      " Volume in drive C is SSD\n",
      " Volume Serial Number is 3AE5-7E79\n",
      "\n",
      " Directory of C:\\Users\\User\n",
      "\n",
      "09-Dec-21  12:38 AM            21,143 plot.png\n",
      "               1 File(s)         21,143 bytes\n",
      "               0 Dir(s)   7,417,671,680 bytes free\n"
     ]
    }
   ],
   "source": [
    "ls plot.png"
   ]
  },
  {
   "cell_type": "code",
   "execution_count": 1,
   "metadata": {},
   "outputs": [
    {
     "name": "stdout",
     "output_type": "stream",
     "text": [
      "pygame 2.1.0 (SDL 2.0.16, Python 3.7.4)\n",
      "Hello from the pygame community. https://www.pygame.org/contribute.html\n"
     ]
    }
   ],
   "source": [
    "from tensorflow.keras.applications.mobilenet_v2 import preprocess_input\n",
    "from tensorflow.keras.preprocessing.image import img_to_array\n",
    "from tensorflow.keras.models import load_model\n",
    "from imutils.video import VideoStream\n",
    "from pygame import mixer\n",
    "import numpy as np\n",
    "import imutils\n",
    "import time\n",
    "import cv2\n",
    "import os"
   ]
  },
  {
   "cell_type": "code",
   "execution_count": 4,
   "metadata": {},
   "outputs": [
    {
     "name": "stdout",
     "output_type": "stream",
     "text": [
      "(1, 1, 200, 7)\n",
      "(1, 1, 200, 7)\n",
      "(1, 1, 200, 7)\n",
      "(1, 1, 200, 7)\n",
      "(1, 1, 200, 7)\n",
      "(1, 1, 200, 7)\n",
      "(1, 1, 200, 7)\n",
      "(1, 1, 200, 7)\n",
      "(1, 1, 200, 7)\n",
      "(1, 1, 200, 7)\n",
      "(1, 1, 200, 7)\n",
      "(1, 1, 200, 7)\n",
      "(1, 1, 200, 7)\n",
      "(1, 1, 200, 7)\n",
      "(1, 1, 200, 7)\n",
      "(1, 1, 200, 7)\n",
      "(1, 1, 200, 7)\n",
      "(1, 1, 200, 7)\n",
      "(1, 1, 200, 7)\n",
      "(1, 1, 200, 7)\n",
      "(1, 1, 200, 7)\n",
      "(1, 1, 200, 7)\n",
      "(1, 1, 200, 7)\n",
      "(1, 1, 200, 7)\n",
      "(1, 1, 200, 7)\n",
      "(1, 1, 200, 7)\n",
      "(1, 1, 200, 7)\n",
      "(1, 1, 200, 7)\n",
      "(1, 1, 200, 7)\n",
      "(1, 1, 200, 7)\n",
      "(1, 1, 200, 7)\n",
      "(1, 1, 200, 7)\n",
      "(1, 1, 200, 7)\n",
      "(1, 1, 200, 7)\n",
      "(1, 1, 200, 7)\n",
      "(1, 1, 200, 7)\n",
      "(1, 1, 200, 7)\n",
      "(1, 1, 200, 7)\n",
      "(1, 1, 200, 7)\n",
      "(1, 1, 200, 7)\n",
      "(1, 1, 200, 7)\n",
      "(1, 1, 200, 7)\n",
      "(1, 1, 200, 7)\n",
      "(1, 1, 200, 7)\n",
      "(1, 1, 200, 7)\n",
      "(1, 1, 200, 7)\n",
      "(1, 1, 200, 7)\n",
      "(1, 1, 200, 7)\n",
      "(1, 1, 200, 7)\n",
      "(1, 1, 200, 7)\n",
      "(1, 1, 200, 7)\n",
      "(1, 1, 200, 7)\n",
      "(1, 1, 200, 7)\n",
      "(1, 1, 200, 7)\n",
      "(1, 1, 200, 7)\n",
      "(1, 1, 200, 7)\n",
      "(1, 1, 200, 7)\n",
      "(1, 1, 200, 7)\n",
      "(1, 1, 200, 7)\n",
      "(1, 1, 200, 7)\n",
      "(1, 1, 200, 7)\n",
      "(1, 1, 200, 7)\n",
      "(1, 1, 200, 7)\n",
      "(1, 1, 200, 7)\n",
      "(1, 1, 200, 7)\n",
      "(1, 1, 200, 7)\n",
      "(1, 1, 200, 7)\n",
      "(1, 1, 200, 7)\n",
      "(1, 1, 200, 7)\n",
      "(1, 1, 200, 7)\n",
      "(1, 1, 200, 7)\n",
      "(1, 1, 200, 7)\n",
      "(1, 1, 200, 7)\n",
      "(1, 1, 200, 7)\n",
      "(1, 1, 200, 7)\n",
      "(1, 1, 200, 7)\n",
      "(1, 1, 200, 7)\n",
      "(1, 1, 200, 7)\n",
      "(1, 1, 200, 7)\n",
      "(1, 1, 200, 7)\n",
      "(1, 1, 200, 7)\n",
      "(1, 1, 200, 7)\n",
      "(1, 1, 200, 7)\n",
      "(1, 1, 200, 7)\n",
      "(1, 1, 200, 7)\n",
      "(1, 1, 200, 7)\n",
      "(1, 1, 200, 7)\n",
      "(1, 1, 200, 7)\n",
      "(1, 1, 200, 7)\n",
      "(1, 1, 200, 7)\n",
      "(1, 1, 200, 7)\n",
      "(1, 1, 200, 7)\n",
      "(1, 1, 200, 7)\n",
      "(1, 1, 200, 7)\n",
      "(1, 1, 200, 7)\n"
     ]
    }
   ],
   "source": [
    "# 12. implement on openCV\n",
    "\n",
    "def detect_and_predict_mask(frame, faceNet, maskNet):\n",
    "    (h, w) = frame.shape[:2]\n",
    "    blob = cv2.dnn.blobFromImage(frame, 1.0, (224,224), (104.0, 177.0, 123.0))\n",
    "    \n",
    "    faceNet.setInput(blob)\n",
    "    detections = faceNet.forward()\n",
    "    print(detections.shape)\n",
    "    \n",
    "    faces = []\n",
    "    locs = []\n",
    "    preds = []\n",
    "    \n",
    "    for i in range(0, detections.shape[2]):\n",
    "        confidence = detections[0, 0, i, 2]\n",
    "        \n",
    "        if confidence > 0.5:\n",
    "            box = detections[0, 0, i, 3:7] * np.array([w, h, w, h])\n",
    "            (startX, startY, endX, endY) = box.astype(\"int\")\n",
    "            \n",
    "            (startX, startY) = (max(0, startX), max(0, startY))\n",
    "            (endX, endY) = (min(w - 1, endX), min(h - 1, endY))\n",
    "            \n",
    "            face = frame[startY:endY, startX: endX]\n",
    "            face = cv2.cvtColor(face, cv2.COLOR_BGR2RGB)\n",
    "            face = cv2.resize(face, (224,224))\n",
    "            face = img_to_array(face)\n",
    "            face = preprocess_input(face)\n",
    "            \n",
    "            faces.append(face)\n",
    "            locs.append((startX, startY, endX, endY))\n",
    "    \n",
    "    if len(faces) > 0:\n",
    "        faces = np.array(faces, dtype=\"float32\")\n",
    "        preds = maskNet.predict(faces, batch_size = 32)\n",
    "    \n",
    "    return(locs, preds)\n",
    "\n",
    "prototxtPath = r\"D:\\SEM 9\\individual asg\\facemask_detection_IP\\face_detector\\deploy.prototxt\"\n",
    "weightsPath = r\"D:\\SEM 9\\individual asg\\facemask_detection_IP\\face_detector\\res10_300x300_ssd_iter_140000.caffemodel\"\n",
    "faceNet = cv2.dnn.readNet(prototxtPath, weightsPath)\n",
    "\n",
    "maskNet = load_model(\"mask_detector.model\")\n",
    "\n",
    "vs = VideoStream(src=0).start()\n",
    "\n",
    "mixer.init()\n",
    "sound = mixer.Sound('censor.wav')\n",
    "\n",
    "while True:\n",
    "    frame = vs.read()\n",
    "    frame = imutils.resize(frame, width = 700)\n",
    "    \n",
    "    (locs, preds) = detect_and_predict_mask(frame, faceNet, maskNet)\n",
    "    \n",
    "    for (box, pred) in zip(locs, preds):\n",
    "        (startX, startY, endX, endY) = box\n",
    "        (mask, withoutMask) = pred\n",
    "        \n",
    "        label = \"with mask\" if mask > withoutMask else \"no mask\"\n",
    "        color = (0,255,0) if label == \"with mask\" else (0,255,255)\n",
    "        if(label == \"no mask\"):\n",
    "            sound.play()\n",
    "        \n",
    "        label = \"{}: {:.2f}%\".format(label, max(mask,withoutMask) * 100)\n",
    "        \n",
    "        cv2.putText(frame, label, (startX, startY - 10),\n",
    "                   cv2.FONT_HERSHEY_SIMPLEX, 0.45, color, 2)\n",
    "        cv2.rectangle(frame, (startX, startY), (endX, endY), color, 2)\n",
    "    \n",
    "    cv2.imshow(\"Frame\", frame)\n",
    "    key = cv2.waitKey(1) & 0xFF\n",
    "    \n",
    "    if key == ord(\"q\"):\n",
    "        break\n",
    "\n",
    "cv2.destroyAllWindows()\n",
    "vs.stop()"
   ]
  },
  {
   "cell_type": "code",
   "execution_count": null,
   "metadata": {},
   "outputs": [],
   "source": []
  },
  {
   "cell_type": "code",
   "execution_count": null,
   "metadata": {},
   "outputs": [],
   "source": []
  }
 ],
 "metadata": {
  "kernelspec": {
   "display_name": "Python 3",
   "language": "python",
   "name": "python3"
  },
  "language_info": {
   "codemirror_mode": {
    "name": "ipython",
    "version": 3
   },
   "file_extension": ".py",
   "mimetype": "text/x-python",
   "name": "python",
   "nbconvert_exporter": "python",
   "pygments_lexer": "ipython3",
   "version": "3.7.4"
  }
 },
 "nbformat": 4,
 "nbformat_minor": 2
}
